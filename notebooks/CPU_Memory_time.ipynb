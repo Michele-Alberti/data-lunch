{
 "cells": [
  {
   "cell_type": "markdown",
   "metadata": {},
   "source": [
    "# CPU and memory consumptions for billings"
   ]
  },
  {
   "cell_type": "code",
   "execution_count": null,
   "metadata": {},
   "outputs": [],
   "source": [
    "import pandas as pd"
   ]
  },
  {
   "cell_type": "code",
   "execution_count": null,
   "metadata": {},
   "outputs": [],
   "source": [
    "# CONSTANTS\n",
    "v_cpu = 2 # in cores\n",
    "mem = 512 # in MB\n",
    "safety_factor = 1\n",
    "df_info = pd.DataFrame({\"v_cpu\": [v_cpu], \"mem\": [mem], \"safety_factor\": [safety_factor]}, index=[\"value\"]).T.style.set_caption('Instance Info').format(precision=1)\n",
    "\n",
    "display(df_info)\n",
    "\n",
    "# CPU and memory readings\n",
    "df_cpu = pd.read_csv('Container_CPU_utilization.csv', skiprows=3, header=None, names=['time', 'value'])\n",
    "display(df_cpu.head())\n",
    "df_mem = pd.read_csv('Container_memory_utilization.csv', skiprows=3, header=None, names=['time', 'value'])\n",
    "display(df_mem.head())\n",
    "\n",
    "# Average CPU and memory load\n",
    "avg_cpu_percent = df_cpu.value.mean()\n",
    "avg_mem_percent = df_mem.value.mean()\n",
    "\n",
    "print(f\"AVG CPU {(avg_cpu_percent * 100):.2f} \\nAVG MEM {(avg_mem_percent * 100):.2f} \")\n",
    "\n",
    "# CPU and memory time\n",
    "v_cpu_time = 31 * 24 * 3600 * (v_cpu * avg_cpu_percent * safety_factor)\n",
    "v_mem_time = 31 * 24 * 3600 * (mem * avg_mem_percent / 1024 * safety_factor)\n",
    "\n",
    "print(f\"CPU TIME {v_cpu_time:.0f} s \\nMEM TIME {v_mem_time:.0f} s\")"
   ]
  }
 ],
 "metadata": {
  "kernelspec": {
   "display_name": "Python 3.10.6 ('data-lunch')",
   "language": "python",
   "name": "python3"
  },
  "language_info": {
   "codemirror_mode": {
    "name": "ipython",
    "version": 3
   },
   "file_extension": ".py",
   "mimetype": "text/x-python",
   "name": "python",
   "nbconvert_exporter": "python",
   "pygments_lexer": "ipython3",
   "version": "3.10.6"
  },
  "vscode": {
   "interpreter": {
    "hash": "2077bdd81c6cb079d3bcf995e25b25d6d322940d8a22fe92390b4090d72751c5"
   }
  }
 },
 "nbformat": 4,
 "nbformat_minor": 2
}
